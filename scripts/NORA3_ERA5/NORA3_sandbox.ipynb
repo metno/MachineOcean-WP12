{
 "cells": [
  {
   "cell_type": "code",
   "execution_count": 1,
   "metadata": {},
   "outputs": [
    {
     "name": "stderr",
     "output_type": "stream",
     "text": [
      "<ipython-input-1-cb3372a5e08f>:62: UserWarning: Matplotlib is currently using module://ipykernel.pylab.backend_inline, which is a non-GUI backend, so cannot show the figure.\n",
      "  fig.show()\n"
     ]
    },
    {
     "name": "stdout",
     "output_type": "stream",
     "text": [
      "From 20200101-0000\n",
      "To 20200101-2300\n",
      "From 20200101-0000\n",
      "To 20200101-2300\n",
      "Writing timeseries for station Blindern at 10.72, 59.9423\n",
      "<xarray.DataArray 'integral_of_toa_net_downward_shortwave_flux_wrt_time' (time: 24, top_of_atmosphere: 1)>\n",
      "array([[     0.],\n",
      "       [     0.],\n",
      "       [     0.],\n",
      "       [     0.],\n",
      "       [     0.],\n",
      "       [     0.],\n",
      "       [     0.],\n",
      "       [     0.],\n",
      "       [     0.],\n",
      "       [ 25152.],\n",
      "       [157888.],\n",
      "       [239680.],\n",
      "       [264704.],\n",
      "       [218240.],\n",
      "       [115840.],\n",
      "       [  3712.],\n",
      "       [     0.],\n",
      "       [     0.],\n",
      "       [     0.],\n",
      "       [     0.],\n",
      "       [     0.],\n",
      "       [     0.],\n",
      "       [     0.],\n",
      "       [     0.]], dtype=float32)\n",
      "Coordinates:\n",
      "  * time               (time) datetime64[ns] 2020-01-01 ... 2020-01-01T23:00:00\n",
      "  * top_of_atmosphere  (top_of_atmosphere) int16 0\n",
      "    longitude          float64 10.73\n",
      "    latitude           float64 59.93\n",
      "Attributes:\n",
      "    long_name:      Accumulated TOA net downward SW radiation\n",
      "    standard_name:  integral_of_toa_net_downward_shortwave_flux_wrt_time\n",
      "    units:          W s/m^2\n"
     ]
    },
    {
     "data": {
      "image/png": "[encoded data removed]",
      "text/plain": [
       "<Figure size 432x288 with 2 Axes>"
      ]
     },
     "metadata": {
      "needs_background": "light"
     },
     "output_type": "display_data"
    }
   ],
   "source": [
    "import NORA3_ERA5\n",
    "import datetime\n",
    "import matplotlib.pyplot as plt\n",
    "\n",
    "params_rad = [\"integral_of_toa_net_downward_shortwave_flux_wrt_time\"]#, \n",
    "        #\"integral_of_surface_net_downward_shortwave_flux_wrt_time\",\n",
    "        #\"integral_of_surface_downwelling_shortwave_flux_in_air_wrt_time\"]\n",
    "\n",
    "params_p = [\"snowfall_amount_acc\", \n",
    "        \"precipitation_amount_acc\"]\n",
    "\n",
    "params_other = [\"air_temperature_2m\",\n",
    "        \"relative_humidity_2m\"]\n",
    "\n",
    "params_clouds = [\"cloud_area_fraction\", # multiple timeseries in this one???\n",
    "        \"convective_cloud_area_fraction\",\n",
    "        \"high_type_cloud_area_fraction\",\n",
    "        \"medium_type_cloud_area_fraction\",\n",
    "        \"low_type_cloud_area_fraction\"]\n",
    "\n",
    "# TODO:\n",
    "# Check which file a certain datetime is read from. Is it the latest read file?? \n",
    "#\n",
    "# 3 timers data: fc2020010100_00(3 og 6)_full_sfx.nc\n",
    "# ASN_VEG\n",
    "# TALB_ISBA\n",
    "# ALBVIS_ISBA\n",
    "#\n",
    "# 3 timers data: fc2020010100_00(6 og 9).nc\n",
    "# toa_net_downward_shortwave_flux\n",
    "# surface_downwelling_shortwave_flux_in_air\n",
    "\n",
    "# Locations to fetch data for:\n",
    "# Blindern: 59.9423 E 10.72\n",
    "# Bergen: N 60.3837 E 5.332\n",
    "# Trømsø-Holt: N 69.6537 E 18.9368\n",
    "\n",
    "lon = 10.72\n",
    "lat = 59.9423\n",
    "\n",
    "# Period to fetch data for: 2020\n",
    "\n",
    "start_time_str = \"2020-01-01T00:00:00\"\n",
    "end_time_str = \"2020-01-01T23:00:00\"\n",
    "\n",
    "start_time = datetime.datetime.strptime(start_time_str, \"%Y-%m-%dT%H:%M:%S\")\n",
    "end_time = datetime.datetime.strptime(end_time_str, \"%Y-%m-%dT%H:%M:%S\")\n",
    "\n",
    "fig, ax1 = plt.subplots() \n",
    "\n",
    "tss = []\n",
    "for param in params_rad:\n",
    "    ts = NORA3_ERA5.get_nora3_timeseries(param, lon, lat, start_time, end_time)\n",
    "    tss.append(ts)\n",
    "    ax1.plot(ts.time, ts.values, color=\"tab:orange\", marker=\"x\")\n",
    "plt.xticks(rotation=45)\n",
    "\n",
    "ax2 = ax1.twinx()\n",
    "\n",
    "ts = NORA3_ERA5.get_nora3_timeseries(\"air_temperature_2m\", lon, lat, start_time, end_time)\n",
    "ax2.plot(ts.time, ts.values, color=\"tab:blue\", marker=\"+\")\n",
    "fig.show()\n"
   ]
  },
  {
   "cell_type": "code",
   "execution_count": null,
   "metadata": {},
   "outputs": [],
   "source": []
  }
 ],
 "metadata": {
  "interpreter": {
   "hash": "ce078a51bfd3aace4fd724833bff5f0dbe9dc83b355b916c21cfe7496f5703a7"
  },
  "kernelspec": {
   "display_name": "Python 3.8.8 64-bit ('production': conda)",
   "name": "python3"
  },
  "language_info": {
   "codemirror_mode": {
    "name": "ipython",
    "version": 3
   },
   "file_extension": ".py",
   "mimetype": "text/x-python",
   "name": "python",
   "nbconvert_exporter": "python",
   "pygments_lexer": "ipython3",
   "version": "3.8.8"
  },
  "orig_nbformat": 4
 },
 "nbformat": 4,
 "nbformat_minor": 2
}
